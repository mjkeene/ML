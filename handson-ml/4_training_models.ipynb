{
 "cells": [
  {
   "cell_type": "markdown",
   "id": "d24fa400-30e3-495b-b533-433955a2f46f",
   "metadata": {},
   "source": [
    "<h3>Training Models</h3>\n",
    "\n",
    "In many situations, you don't really need to know the implementation details. In the previous chapters, we optimized a regression system, improved a digit image classifier, and built a spam classifier from scratch -- all without knowing how they actually work. Having a good understanding of how things work can help you quickly home in on the appropriate model, the right training algorithm to use, and a good set of hyperparameters. You can also debug issues and perform error analysis more efficiently. \n",
    "\n",
    "This chapter will cover Linear Regression, Gradient Descent variants, Polynomial Regression, Logistic Regression, and Softmax Regression.\n",
    "\n",
    "<h3>Linear Regression</h3>\n",
    "\n",
    "In chapter 1, there was a simple regression model of life satisfaction: life_satisfaction = $\\theta_0 + \\theta_1 \\times$ GDP_per_capita\n",
    "\n",
    "The model is just a linear function of the input feature GDP_per_capita. $\\theta_0$ and $\\theta_1$ are the model's parameters. More generally, a linear model makes a prediction by simply computing a weighted sum of the input features, plus a constant called the <i>bias term</i> (also called the <i>intercept term</i>), as shown below:\n",
    "\n",
    "$\\hat{y} = \\theta_0 + \\theta_1 x_1 + \\theta_2 x_2 + ... + \\theta_n x_n \\times$ GDP_per_capita\n",
    "\n",
    "$\\hat{y}$ is the predicted value\n",
    "\n",
    "$n$ is the number of features\n",
    "\n",
    "$x_i$ is the $i$th feature value\n",
    "\n",
    "$\\theta_j$ is the $j$th model parameter\n",
    "\n",
    "This equation can be written much more concisely in vectorized form:\n",
    "\n",
    "$\\hat{y} = h_\\theta (x) = \\theta \\cdot x$\n",
    "\n",
    "$\\theta$ is the model's parameter vector, containing the bias term $\\theta_0$ and the feature weights $\\theta_1$ to $\\theta_n$\n",
    "\n",
    "$x$ is the instance's <i>feature vector</i>, containing $x_0$ to $x_n$ with $x_0$ always equal to 1.\n",
    "\n",
    "$\\theta \\cdot x$ is the dot product of the vectors $\\theta$ and $x$, which is equal to $\\theta_0 x_0 + \\theta_1 x_1 + \\theta_2 x_2 + ... + \\theta_n x_n$\n",
    "\n",
    "$h_\\theta$ is the hypothesis function, using the model parameters $\\theta$\n",
    "\n",
    "So how do we train it? In Chapter 2, we saw the most common performance measure of a regression model is RMSE. Let's minimize the value of $\\theta$ that minimizes the RMSE. We can actually minimize MSE since it's a bit simpler, and gives the same result."
   ]
  },
  {
   "cell_type": "code",
   "execution_count": 2,
   "id": "e81eb41b-25f6-4ce3-94d8-5e50f1fd1a69",
   "metadata": {},
   "outputs": [],
   "source": [
    "import numpy as np\n",
    "import matplotlib.pyplot as plt\n",
    "\n",
    "X = 2 * np.random.rand(100, 1)\n",
    "y = 4 + 3 * X + np.random.randn(100, 1)"
   ]
  },
  {
   "cell_type": "code",
   "execution_count": 4,
   "id": "d76cd42b-73f5-4827-995d-e7bffb65b65a",
   "metadata": {},
   "outputs": [
    {
     "data": {
      "text/plain": [
       "<matplotlib.collections.PathCollection at 0x7fd7a00b84f0>"
      ]
     },
     "execution_count": 4,
     "metadata": {},
     "output_type": "execute_result"
    },
    {
     "data": {
      "image/png": "[encoded data removed]",
      "text/plain": [
       "<Figure size 432x288 with 1 Axes>"
      ]
     },
     "metadata": {
      "needs_background": "light"
     },
     "output_type": "display_data"
    }
   ],
   "source": [
    "plt.scatter(X, y)"
   ]
  },
  {
   "cell_type": "code",
   "execution_count": 5,
   "id": "7748ea07-65cb-4a0c-935a-ebc1c531763f",
   "metadata": {},
   "outputs": [],
   "source": [
    "# Generate value that minimizes cost function\n",
    "\n",
    "X_b = np.c_[np.ones((100, 1)), X] # add x0 = 1 to each instance\n",
    "theta_best = np.linalg.inv(X_b.T.dot(X_b)).dot(X_b.T).dot(y)"
   ]
  },
  {
   "cell_type": "markdown",
   "id": "d874d9a2-2dde-4b6c-98f8-54529b04ab8e",
   "metadata": {},
   "source": [
    "The actual function used to generate the data is $y = 4 + 3x_1 +$ Gaussian noise"
   ]
  },
  {
   "cell_type": "code",
   "execution_count": 7,
   "id": "eea41df8-d11f-4f67-a47c-3168175c520f",
   "metadata": {},
   "outputs": [
    {
     "data": {
      "text/plain": [
       "array([[3.82529707],\n",
       "       [3.05582939]])"
      ]
     },
     "execution_count": 7,
     "metadata": {},
     "output_type": "execute_result"
    }
   ],
   "source": [
    "theta_best"
   ]
  },
  {
   "cell_type": "markdown",
   "id": "34ed9776-1da8-405d-83ba-d7bfb66a66c8",
   "metadata": {},
   "source": [
    "We would have hoped for $\\theta_0 = 4$ and $\\theta_1 = 3$, but these values are close, and the noise made it impossible to extract the exact parameters of the original function.\n",
    "\n",
    "Now we can make predicitons using $\\hat{\\theta}$"
   ]
  },
  {
   "cell_type": "code",
   "execution_count": 8,
   "id": "178f4ea8-4636-438f-a264-723b10ec112d",
   "metadata": {},
   "outputs": [
    {
     "data": {
      "text/plain": [
       "array([[3.82529707],\n",
       "       [9.93695586]])"
      ]
     },
     "execution_count": 8,
     "metadata": {},
     "output_type": "execute_result"
    }
   ],
   "source": [
    "X_new = np.array([[0], [2]])\n",
    "X_new_b = np.c_[np.ones((2, 1)), X_new] # add x0 = 1 to each instance\n",
    "y_predict = X_new_b.dot(theta_best)\n",
    "y_predict"
   ]
  },
  {
   "cell_type": "code",
   "execution_count": 11,
   "id": "a94dfe5c-c15f-4557-8dbb-a4c4ec04dc9b",
   "metadata": {},
   "outputs": [
    {
     "data": {
      "text/plain": [
       "[<matplotlib.lines.Line2D at 0x7fd7b8eeb400>]"
      ]
     },
     "execution_count": 11,
     "metadata": {},
     "output_type": "execute_result"
    },
    {
     "data": {
      "image/png": "[encoded data removed]",
      "text/plain": [
       "<Figure size 432x288 with 1 Axes>"
      ]
     },
     "metadata": {
      "needs_background": "light"
     },
     "output_type": "display_data"
    }
   ],
   "source": [
    "# Plot the prediction line\n",
    "\n",
    "plt.plot(X_new, y_predict, 'r-')\n",
    "plt.plot(X, y, 'b.')"
   ]
  },
  {
   "cell_type": "code",
   "execution_count": 12,
   "id": "5f71df9c-3849-4798-8dd4-1db3ec22000c",
   "metadata": {},
   "outputs": [
    {
     "data": {
      "text/plain": [
       "(array([3.82529707]), array([[3.05582939]]))"
      ]
     },
     "execution_count": 12,
     "metadata": {},
     "output_type": "execute_result"
    }
   ],
   "source": [
    "# Now let's do linear regression using scikit-learn\n",
    "from sklearn.linear_model import LinearRegression\n",
    "\n",
    "lin_reg = LinearRegression()\n",
    "lin_reg.fit(X, y)\n",
    "lin_reg.intercept_, lin_reg.coef_"
   ]
  },
  {
   "cell_type": "code",
   "execution_count": 13,
   "id": "9638a2c1-084a-4098-98fd-9146dd99c834",
   "metadata": {},
   "outputs": [
    {
     "data": {
      "text/plain": [
       "array([[3.82529707],\n",
       "       [9.93695586]])"
      ]
     },
     "execution_count": 13,
     "metadata": {},
     "output_type": "execute_result"
    }
   ],
   "source": [
    "lin_reg.predict(X_new)"
   ]
  },
  {
   "cell_type": "markdown",
   "id": "17daaec2-bf10-4419-ac0e-57594daced74",
   "metadata": {},
   "source": [
    "The `LinearRegression` class is based on the `scipy.linalg.lstsq()` function (least squares). You can call this directly:"
   ]
  },
  {
   "cell_type": "code",
   "execution_count": 14,
   "id": "91231825-965e-4c49-a6c6-8580c4a4ec2e",
   "metadata": {},
   "outputs": [],
   "source": [
    "theta_best_svd, residuals, rank, s = np.linalg.lstsq(X_b, y, rcond=1e-6)"
   ]
  },
  {
   "cell_type": "code",
   "execution_count": 15,
   "id": "9ceb09ba-1113-432d-8701-184ae9a49d8c",
   "metadata": {},
   "outputs": [
    {
     "data": {
      "text/plain": [
       "array([[3.82529707],\n",
       "       [3.05582939]])"
      ]
     },
     "execution_count": 15,
     "metadata": {},
     "output_type": "execute_result"
    }
   ],
   "source": [
    "theta_best_svd"
   ]
  },
  {
   "cell_type": "markdown",
   "id": "b821d5fd-2a23-45e8-ada0-346899b0080e",
   "metadata": {},
   "source": [
    "This function computes the pseudoinverse of X (specifically the Moore-Penrose inverse). You can use `np.linalg.pinv()` to compute the pseudoinverse directly:"
   ]
  },
  {
   "cell_type": "code",
   "execution_count": 16,
   "id": "b6cd5085-a5e0-4184-9bd8-4535b6a29181",
   "metadata": {},
   "outputs": [
    {
     "data": {
      "text/plain": [
       "array([[3.82529707],\n",
       "       [3.05582939]])"
      ]
     },
     "execution_count": 16,
     "metadata": {},
     "output_type": "execute_result"
    }
   ],
   "source": [
    "np.linalg.pinv(X_b).dot(y)"
   ]
  },
  {
   "cell_type": "markdown",
   "id": "39561f8d-6947-446f-a594-2145e896fe81",
   "metadata": {},
   "source": [
    "<h3>Computational Complexity</h3>\n",
    "\n",
    "The Normal Equation computes the inverse of $X^{T} X$, which is $O(n^{2.4})$ to $O(n^3)$ depending on the implementation. If you double the number of features, you multiply the computation time by roughly $2^{2.4}$ = 5.3 to $2^3$ = 8. Scikit-Learn's `LinearRegression` class is about $O(n^2)$. \n",
    "\n",
    "Note that once you have trained the Linear Regression model, predicitons are very fast: the computational complexity is linear with regards to both the number of instances you want to make predictions on and the number of features. Making predictions on twice as many instances (or twice as many features) will just take roughly twice as much time.\n",
    "\n",
    "<h3>Gradient Descent</h3>\n",
    "\n",
    "This is a very different way to train a Linear Regression model, better suited for cases where there are a large number of features, or too many training instances to fit into memory.\n",
    "\n",
    "<i>Gradient Descent</i> is a very generic optimization algorithm capable of finding optimal solutions to a wide range of problems. The general idea of GD is to tweak parameters iteratively in order to minimize a cost function.\n",
    "\n",
    "p.112"
   ]
  },
  {
   "cell_type": "code",
   "execution_count": null,
   "id": "25d83326-094e-40c8-b769-5cc19996722c",
   "metadata": {},
   "outputs": [],
   "source": []
  },
  {
   "cell_type": "code",
   "execution_count": null,
   "id": "5e68d59f-b422-46b5-b064-c7c46c2729bf",
   "metadata": {},
   "outputs": [],
   "source": []
  },
  {
   "cell_type": "code",
   "execution_count": null,
   "id": "de5c8696-e50e-434c-8ef0-07f77d2b6c04",
   "metadata": {},
   "outputs": [],
   "source": []
  },
  {
   "cell_type": "code",
   "execution_count": null,
   "id": "2b95f64a-334f-4e80-afca-d6358a04721d",
   "metadata": {},
   "outputs": [],
   "source": []
  },
  {
   "cell_type": "code",
   "execution_count": null,
   "id": "e8d85d5e-1d47-49f4-a670-dd950d4be6ca",
   "metadata": {},
   "outputs": [],
   "source": []
  }
 ],
 "metadata": {
  "kernelspec": {
   "display_name": "Python 3",
   "language": "python",
   "name": "python3"
  },
  "language_info": {
   "codemirror_mode": {
    "name": "ipython",
    "version": 3
   },
   "file_extension": ".py",
   "mimetype": "text/x-python",
   "name": "python",
   "nbconvert_exporter": "python",
   "pygments_lexer": "ipython3",
   "version": "3.8.8"
  }
 },
 "nbformat": 4,
 "nbformat_minor": 5
}
