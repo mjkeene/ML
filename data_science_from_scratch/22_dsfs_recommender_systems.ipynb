{
 "cells": [
  {
   "cell_type": "markdown",
   "id": "f6a4bc0d",
   "metadata": {},
   "source": [
    "<h2>Recommender Systems</h2>\n",
    "\n",
    "A fairly common data problem is producing <i>recommendations</i> of some sort. Netflix recommends movies you might want to watch, Amazon recommends products you may want to buy, and Twitter recommends users you might want to follow. Here we'll explore several ways to use data to make recommendations."
   ]
  },
  {
   "cell_type": "code",
   "execution_count": 1,
   "id": "a394e3e5",
   "metadata": {},
   "outputs": [],
   "source": [
    "# Let's take some user's interests and recommend new interests based on current ones\n",
    "users_interests = [\n",
    "    [\"Hadoop\", \"Big Data\", \"HBase\", \"Java\", \"Spark\", \"Storm\", \"Cassandra\"],\n",
    "    [\"NoSQL\", \"MongoDB\", \"Cassandra\", \"HBase\", \"Postgres\"],\n",
    "    [\"Python\", \"scikit-learn\", \"scipy\", \"numpy\", \"statsmodels\", \"pandas\"],\n",
    "    [\"R\", \"Python\", \"statistics\", \"regression\", \"probability\"],\n",
    "    [\"machine learning\", \"regression\", \"decision trees\", \"libsvm\"],\n",
    "    [\"Python\", \"R\", \"Java\", \"C++\", \"Haskell\", \"programming languages\"],\n",
    "    [\"statistics\", \"probability\", \"mathematics\", \"theory\"],\n",
    "    [\"machine learning\", \"scikit-learn\", \"Mahout\", \"neural networks\"],\n",
    "    [\"neural networks\", \"deep learning\", \"Big Data\", \"artificial intelligence\"],\n",
    "    [\"Hadoop\", \"Java\", \"MapReduce\", \"Big Data\"],\n",
    "    [\"statistics\", \"R\", \"statsmodels\"],\n",
    "    [\"C++\", \"deep learning\", \"artificial intelligence\", \"probability\"],\n",
    "    [\"pandas\", \"R\", \"Python\"],\n",
    "    [\"databases\", \"HBase\", \"Postgres\", \"MySQL\", \"MongoDB\"],\n",
    "    [\"libsvm\", \"regression\", \"support vector machines\"]\n",
    "]"
   ]
  },
  {
   "cell_type": "code",
   "execution_count": 2,
   "id": "bcf4430b",
   "metadata": {},
   "outputs": [
    {
     "data": {
      "text/plain": [
       "[('Python', 4), ('R', 4), ('Big Data', 3), ('HBase', 3), ('Java', 3)]"
      ]
     },
     "execution_count": 2,
     "metadata": {},
     "output_type": "execute_result"
    }
   ],
   "source": [
    "# An easy approach is to just recommend what is most common\n",
    "from collections import Counter\n",
    "\n",
    "popular_interests = Counter(interest\n",
    "                     for users_interests in users_interests\n",
    "                     for interest in users_interests).most_common()\n",
    "popular_interests[:5]"
   ]
  },
  {
   "cell_type": "code",
   "execution_count": 3,
   "id": "a8cea397",
   "metadata": {},
   "outputs": [
    {
     "name": "stdout",
     "output_type": "stream",
     "text": [
      "User Interests: ['NoSQL', 'MongoDB', 'Cassandra', 'HBase', 'Postgres']\n",
      "Suggested New Interests: [('Python', 4), ('R', 4), ('Big Data', 3), ('Java', 3), ('statistics', 3)]\n"
     ]
    }
   ],
   "source": [
    "# Suggest a popular new interest as long as the user doesn't already have it\n",
    "def most_popular_new_interests(user_interests, max_results=5):\n",
    "    suggested_interests = [(interest, freq)\n",
    "                          for interest, freq in popular_interests if interest not in user_interests]\n",
    "    return suggested_interests[:max_results]\n",
    "\n",
    "# Results for user in 1st index of users_interests list\n",
    "print('User Interests:', users_interests[1])\n",
    "print('Suggested New Interests:', most_popular_new_interests(users_interests[1]))"
   ]
  },
  {
   "cell_type": "code",
   "execution_count": 4,
   "id": "5ccc9165",
   "metadata": {},
   "outputs": [
    {
     "name": "stdout",
     "output_type": "stream",
     "text": [
      "User Interests: ['R', 'Python', 'statistics', 'regression', 'probability']\n",
      "Suggested New Interests: [('Big Data', 3), ('HBase', 3), ('Java', 3), ('Hadoop', 2), ('Cassandra', 2)]\n"
     ]
    }
   ],
   "source": [
    "# Let's see what it returns for user 3 given that they are interested in many of the previous suggestions\n",
    "print('User Interests:', users_interests[3])\n",
    "print('Suggested New Interests:', most_popular_new_interests(users_interests[3]))"
   ]
  },
  {
   "cell_type": "markdown",
   "id": "9907c8d2",
   "metadata": {},
   "source": [
    "<h2>User-Based Collaborative Filtering</h2>\n",
    "\n",
    "Recommending the most popular options doesn't take into account anything unique to a user. One way to take into account a user's specific interests is to look for users that are somehow similar to one another, and then make suggestions based on what those similar users are interested in.\n",
    "\n",
    "To do this, we'll declare a `cosine_similarity` function that measures the 'angle' between two vectors, v and w. If v and w point in the same direction, then both the numerator and denominator are equal, so their cosine similarity equals 1. If v and w point opposite directions, then their cosine similarity equals -1. Finally, if v is 0 whenever w is not, then $dot(v, w)$ is 0 and their cosine similarity will be 0.\n",
    "\n",
    "We'll apply this to vectors of 0s and 1s, each vector v representing one user's interests. v[i] will be 1 if the user is specified the ith interest, 0 otherwise. Accordingly, 'similar users' will mean 'users whose interest vectors most nearly point in the same direction.' Users with identical interests will have similarity 1. Users with no identical interests will have similarity 0. Otherwise the similarity will fall in between, with numbers closer to 1 indicating 'very similar' and numbers closer to 0 indicating 'not very similar.'"
   ]
  },
  {
   "cell_type": "code",
   "execution_count": 5,
   "id": "5a525ca1",
   "metadata": {},
   "outputs": [],
   "source": [
    "import numpy as np\n",
    "\n",
    "def cosine_similarity(v, w):\n",
    "    return np.dot(v, w) / np.sqrt(np.dot(v, v) * np.dot(w, w))"
   ]
  },
  {
   "cell_type": "code",
   "execution_count": 6,
   "id": "4ddd2512",
   "metadata": {},
   "outputs": [],
   "source": [
    "unique_interests = sorted(list({interest for interests in users_interests for interest in interests}))"
   ]
  },
  {
   "cell_type": "code",
   "execution_count": 7,
   "id": "3a0b74bf",
   "metadata": {},
   "outputs": [],
   "source": [
    "# Generate an interest vector for each interest for each user\n",
    "def generate_user_interest_vector(user_interests):\n",
    "    \"\"\"given a list of interests, produce a vector whose ith element is 1 \n",
    "    if unique_interests[i] is in the list, 0 otherwise\"\"\"\n",
    "    return [1 if interest in user_interests else 0\n",
    "           for interest in unique_interests]"
   ]
  },
  {
   "cell_type": "code",
   "execution_count": 8,
   "id": "ee2a0bb1",
   "metadata": {},
   "outputs": [],
   "source": [
    "# user_interest_matrix[i][j] equals 1 if user i specified interest j, 0 otherwise\n",
    "user_interest_matrix = list(map(generate_user_interest_vector, users_interests))"
   ]
  },
  {
   "cell_type": "code",
   "execution_count": 9,
   "id": "cceb47e6",
   "metadata": {},
   "outputs": [],
   "source": [
    "user_similarities = [[cosine_similarity(interest_vector_i, interest_vector_j) \n",
    "                      for interest_vector_j in user_interest_matrix]\n",
    "                     for interest_vector_i in user_interest_matrix]"
   ]
  },
  {
   "cell_type": "code",
   "execution_count": 10,
   "id": "fb5917c1",
   "metadata": {},
   "outputs": [
    {
     "name": "stdout",
     "output_type": "stream",
     "text": [
      "User 0 Interests: ['Big Data', 'Cassandra', 'HBase', 'Hadoop', 'Java', 'Spark', 'Storm']\n",
      "User 9 Interests: ['Big Data', 'Hadoop', 'Java', 'MapReduce']\n"
     ]
    },
    {
     "data": {
      "text/plain": [
       "0.5669467095138409"
      ]
     },
     "execution_count": 10,
     "metadata": {},
     "output_type": "execute_result"
    }
   ],
   "source": [
    "# These two users share three interests -- Big Data, Hadoop, and Java\n",
    "print(f'User 0 Interests: {sorted(users_interests[0])}')\n",
    "print(f'User 9 Interests: {sorted(users_interests[9])}')\n",
    "user_similarities[0][9]"
   ]
  },
  {
   "cell_type": "code",
   "execution_count": 11,
   "id": "73767bc9",
   "metadata": {},
   "outputs": [
    {
     "name": "stdout",
     "output_type": "stream",
     "text": [
      "User 0 Interests: ['Big Data', 'Cassandra', 'HBase', 'Hadoop', 'Java', 'Spark', 'Storm']\n",
      "User 8 Interests: ['Big Data', 'artificial intelligence', 'deep learning', 'neural networks']\n"
     ]
    },
    {
     "data": {
      "text/plain": [
       "0.1889822365046136"
      ]
     },
     "execution_count": 11,
     "metadata": {},
     "output_type": "execute_result"
    }
   ],
   "source": [
    "# These two users only share a single interest -- Big Data\n",
    "print(f'User 0 Interests: {sorted(users_interests[0])}')\n",
    "print(f'User 8 Interests: {sorted(users_interests[8])}')\n",
    "user_similarities[0][8]"
   ]
  },
  {
   "cell_type": "code",
   "execution_count": 12,
   "id": "e40f0da4",
   "metadata": {},
   "outputs": [],
   "source": [
    "# Create a way to rank the most similar users to a given user\n",
    "def get_similar_users(user_id):\n",
    "    pairs = [(other_user_id, similarity)\n",
    "            for other_user_id, similarity in enumerate(user_similarities[user_id])\n",
    "            if user_id != other_user_id and similarity > 0]\n",
    "    return sorted(pairs, key=lambda x : x[1], reverse=True)"
   ]
  },
  {
   "cell_type": "code",
   "execution_count": 13,
   "id": "e703af27",
   "metadata": {},
   "outputs": [
    {
     "data": {
      "text/plain": [
       "[(9, 0.5669467095138409),\n",
       " (1, 0.3380617018914066),\n",
       " (8, 0.1889822365046136),\n",
       " (13, 0.1690308509457033),\n",
       " (5, 0.1543033499620919)]"
      ]
     },
     "execution_count": 13,
     "metadata": {},
     "output_type": "execute_result"
    }
   ],
   "source": [
    "# For user 0, expect that user 9 with .56 is returned first\n",
    "get_similar_users(0)"
   ]
  },
  {
   "cell_type": "code",
   "execution_count": 14,
   "id": "6a0ce0df",
   "metadata": {},
   "outputs": [],
   "source": [
    "# Now use this to suggest new interests to a user -- for each interest, just add up \n",
    "# user-similarities of the other users interested in it\n",
    "from collections import defaultdict\n",
    "\n",
    "def user_based_suggestions(user_id, include_current_interests=False):\n",
    "    suggestions = defaultdict(float)\n",
    "    for other_user_id, similarity in get_similar_users(user_id):\n",
    "        for interest in users_interests[other_user_id]:\n",
    "            suggestions[interest] += similarity\n",
    "            \n",
    "    # convert suggestions to sorted descending list\n",
    "    suggestions = sorted(suggestions.items(), key=lambda x : x[1], reverse=True)\n",
    "    \n",
    "    # exclude already included interests depending on flag\n",
    "    if include_current_interests:\n",
    "        return suggestions\n",
    "    else:\n",
    "        return [(suggestion, weight) for suggestion, weight in suggestions\n",
    "               if suggestion not in users_interests[user_id]]"
   ]
  },
  {
   "cell_type": "code",
   "execution_count": 15,
   "id": "dc8fa28c",
   "metadata": {},
   "outputs": [
    {
     "name": "stdout",
     "output_type": "stream",
     "text": [
      "User 0 interests:\n"
     ]
    },
    {
     "data": {
      "text/plain": [
       "['Hadoop', 'Big Data', 'HBase', 'Java', 'Spark', 'Storm', 'Cassandra']"
      ]
     },
     "execution_count": 15,
     "metadata": {},
     "output_type": "execute_result"
    }
   ],
   "source": [
    "print('User 0 interests:')\n",
    "users_interests[0]"
   ]
  },
  {
   "cell_type": "code",
   "execution_count": 16,
   "id": "dad5ec6f",
   "metadata": {},
   "outputs": [
    {
     "name": "stdout",
     "output_type": "stream",
     "text": [
      "User based suggestions:\n"
     ]
    },
    {
     "data": {
      "text/plain": [
       "[('MapReduce', 0.5669467095138409),\n",
       " ('MongoDB', 0.50709255283711),\n",
       " ('Postgres', 0.50709255283711),\n",
       " ('NoSQL', 0.3380617018914066),\n",
       " ('neural networks', 0.1889822365046136),\n",
       " ('deep learning', 0.1889822365046136),\n",
       " ('artificial intelligence', 0.1889822365046136),\n",
       " ('databases', 0.1690308509457033),\n",
       " ('MySQL', 0.1690308509457033),\n",
       " ('Python', 0.1543033499620919),\n",
       " ('R', 0.1543033499620919),\n",
       " ('C++', 0.1543033499620919),\n",
       " ('Haskell', 0.1543033499620919),\n",
       " ('programming languages', 0.1543033499620919)]"
      ]
     },
     "execution_count": 16,
     "metadata": {},
     "output_type": "execute_result"
    }
   ],
   "source": [
    "# These seem like good suggestions for someone interested in 'big data' and database related things\n",
    "print('User based suggestions:')\n",
    "user_based_suggestions(0)"
   ]
  },
  {
   "cell_type": "markdown",
   "id": "cb798cd9",
   "metadata": {},
   "source": [
    "<h2>Dimensionality</h2>\n",
    "Note that this approach doesn't work as well when the number of items gets very large. There is a 'curse of dimensionality' -- in large-dimensional vector spaces, most vectors are very far apart (and therefore point in very different directions). When there are a large number of interests, the 'most similar users' to a given user might not be similar at all. For a site like Amazon, you could attempt to identify similar users to an individual based on buying patterns, but most likely in all the world, there's nobody whose purchase history looks even remotely like that individual. Whoever their 'most similar' shopper is, is probably not similar to them at all, and their purchases would likely make for lousy recommendations.\n",
    "\n",
    "<h2>Item-Based Collaborative Filtering</h2>\n",
    "An alternative is to compute similarities between interests directly. We can then generate suggestions for each user by aggregating interests that are similar to their current interests. "
   ]
  },
  {
   "cell_type": "code",
   "execution_count": 17,
   "id": "7a0b73c4",
   "metadata": {},
   "outputs": [],
   "source": [
    "# Start by transposing user-interest matrix so that rows correspond \n",
    "# to interests and columns correspond to users\n",
    "interest_user_matrix = [[user_interest_vector[j]\n",
    "                        for user_interest_vector in user_interest_matrix]\n",
    "                       for j, _ in enumerate(unique_interests)]"
   ]
  },
  {
   "cell_type": "markdown",
   "id": "fe89d7a2",
   "metadata": {},
   "source": [
    "We can now use cosine similarity again. If precisely the same users are interested in two topics, their similarity will be 1. If no two users are interested in both topics, their similarity will be 0."
   ]
  },
  {
   "cell_type": "code",
   "execution_count": 18,
   "id": "e88efded",
   "metadata": {},
   "outputs": [],
   "source": [
    "interest_similarities = [[cosine_similarity(user_vector_i, user_vector_j)\n",
    "                         for user_vector_j in interest_user_matrix]\n",
    "                        for user_vector_i in interest_user_matrix]"
   ]
  },
  {
   "cell_type": "code",
   "execution_count": 19,
   "id": "e2f9baa7",
   "metadata": {},
   "outputs": [],
   "source": [
    "def get_similar_interests(interest_id):\n",
    "    similarities = interest_similarities[interest_id]\n",
    "    pairs = [(unique_interests[other_interest_id], similarity)\n",
    "             for other_interest_id, similarity in enumerate(similarities)\n",
    "             if interest_id != other_interest_id and similarity > 0]\n",
    "    return sorted(pairs, key=lambda x : x[1], reverse=True)"
   ]
  },
  {
   "cell_type": "code",
   "execution_count": 20,
   "id": "015d54a5",
   "metadata": {},
   "outputs": [
    {
     "name": "stdout",
     "output_type": "stream",
     "text": [
      "Big Data\n"
     ]
    },
    {
     "data": {
      "text/plain": [
       "[('Hadoop', 0.8164965809277261),\n",
       " ('Java', 0.6666666666666666),\n",
       " ('MapReduce', 0.5773502691896258),\n",
       " ('Spark', 0.5773502691896258),\n",
       " ('Storm', 0.5773502691896258),\n",
       " ('Cassandra', 0.4082482904638631),\n",
       " ('artificial intelligence', 0.4082482904638631),\n",
       " ('deep learning', 0.4082482904638631),\n",
       " ('neural networks', 0.4082482904638631),\n",
       " ('HBase', 0.3333333333333333)]"
      ]
     },
     "execution_count": 20,
     "metadata": {},
     "output_type": "execute_result"
    }
   ],
   "source": [
    "# Big Data is interest 0, let's see which interests are similar:\n",
    "print(unique_interests[0])\n",
    "get_similar_interests(0)"
   ]
  },
  {
   "cell_type": "code",
   "execution_count": 21,
   "id": "c1999227",
   "metadata": {},
   "outputs": [],
   "source": [
    "# Create recommendations for a user by summing up similarities of interests similar to theirs\n",
    "def item_based_suggestions(user_id, include_current_interests=False):\n",
    "    # add up similar interests\n",
    "    suggestions = defaultdict(float)\n",
    "    user_interest_vector = user_interest_matrix[user_id]\n",
    "    for interest_id, is_interested in enumerate(user_interest_vector):\n",
    "        if is_interested == 1:\n",
    "            similar_interests = get_similar_interests(interest_id)\n",
    "            for interest, similarity in similar_interests:\n",
    "                suggestions[interest] += similarity\n",
    "\n",
    "    suggestions = sorted(suggestions.items(), key=lambda x : x[1], reverse=True)\n",
    "    \n",
    "    if include_current_interests:\n",
    "        return suggestions\n",
    "    else:\n",
    "        return [(suggestion, weight)\n",
    "               for suggestion, weight in suggestions\n",
    "               if suggestion not in users_interests[user_id]]"
   ]
  },
  {
   "cell_type": "code",
   "execution_count": 22,
   "id": "6ccb833f",
   "metadata": {},
   "outputs": [
    {
     "name": "stdout",
     "output_type": "stream",
     "text": [
      "['Hadoop', 'Big Data', 'HBase', 'Java', 'Spark', 'Storm', 'Cassandra']\n"
     ]
    },
    {
     "data": {
      "text/plain": [
       "[('MapReduce', 1.861807319565799),\n",
       " ('MongoDB', 1.3164965809277263),\n",
       " ('Postgres', 1.3164965809277263),\n",
       " ('NoSQL', 1.2844570503761732),\n",
       " ('MySQL', 0.5773502691896258),\n",
       " ('databases', 0.5773502691896258),\n",
       " ('Haskell', 0.5773502691896258),\n",
       " ('programming languages', 0.5773502691896258),\n",
       " ('artificial intelligence', 0.4082482904638631),\n",
       " ('deep learning', 0.4082482904638631),\n",
       " ('neural networks', 0.4082482904638631),\n",
       " ('C++', 0.4082482904638631),\n",
       " ('Python', 0.2886751345948129),\n",
       " ('R', 0.2886751345948129)]"
      ]
     },
     "execution_count": 22,
     "metadata": {},
     "output_type": "execute_result"
    }
   ],
   "source": [
    "# Seemingly reasonable suggestions for user 0\n",
    "print(users_interests[0])\n",
    "item_based_suggestions(0)"
   ]
  },
  {
   "cell_type": "code",
   "execution_count": null,
   "id": "851e0d0f",
   "metadata": {},
   "outputs": [],
   "source": []
  },
  {
   "cell_type": "code",
   "execution_count": null,
   "id": "3d5b4709",
   "metadata": {},
   "outputs": [],
   "source": []
  }
 ],
 "metadata": {
  "kernelspec": {
   "display_name": "Python 3",
   "language": "python",
   "name": "python3"
  },
  "language_info": {
   "codemirror_mode": {
    "name": "ipython",
    "version": 3
   },
   "file_extension": ".py",
   "mimetype": "text/x-python",
   "name": "python",
   "nbconvert_exporter": "python",
   "pygments_lexer": "ipython3",
   "version": "3.8.8"
  }
 },
 "nbformat": 4,
 "nbformat_minor": 5
}
